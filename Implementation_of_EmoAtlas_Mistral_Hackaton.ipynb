{
  "cells": [
    {
      "cell_type": "markdown",
      "metadata": {
        "id": "kCg_LftFfwOq"
      },
      "source": [
        "Prompt Construction:\n",
        "Choose a small set of emotionally neutral or ambiguous phrases.\n",
        "Translate each phrase directly into both Italian and English.\n",
        "Use these as prompts for the LLM.\n",
        "LLM Response Collection:\n",
        "Query the LLM with each prompt.\n",
        "Collect its full response in both languages.\n",
        "\n",
        "Emotion Scoring:\n",
        "Use emos_eng.zscores() and emos_it.zscores() (from EmoAtlas) to compute the emotional intensity vector for each response.\n",
        "\n",
        "Expand these vectors into separate columns (e.g., anger, joy, trust, etc.) to compare emotion-by-emotion.\n",
        "Comparison & Visualization:\n",
        "Compare scores across languages.\n",
        "Optionally visualize via bar plots or radar charts for easy interpretation.\n"
      ]
    },
    {
      "cell_type": "code",
      "execution_count": null,
      "metadata": {
        "id": "IF9xfytIlPou"
      },
      "outputs": [],
      "source": [
        "!pip install git+https://github.com/MassimoStel/emoatlas\n",
        "!python -m spacy download en_core_web_lg\n",
        "!python -m spacy download it_core_news_lg\n",
        "\n",
        "import requests  # For sending HTTP requests\n",
        "import json      # For handling JSON data\n",
        "import matplotlib.pyplot as plt\n",
        "from emoatlas import EmoScores\n",
        "import emoatlas\n",
        "import time\n",
        "import re\n",
        "import nltk"
      ]
    },
    {
      "cell_type": "code",
      "execution_count": null,
      "metadata": {},
      "outputs": [],
      "source": [
        "API_KEY = \"671n3ZdhWoz3H28F7XVz7UZjLvieH5jI\"\n",
        "API_URL = \"https://api.mistral.ai/v1/chat/completions\"\n",
        "\n",
        "#available models ('mistral-tiny', 'mistral-small', 'mistral-medium')\n",
        "MODEL = \"mistral-small\"\n",
        "\n",
        "# Headers for authentication and content type\n",
        "HEADERS = {\n",
        "    \"Authorization\": f\"Bearer {API_KEY}\",\n",
        "    \"Content-Type\": \"application/json\"\n",
        "}\n",
        "\n",
        "def chat_with_mistral(messages):\n",
        "\n",
        "    payload = {\n",
        "        \"model\": MODEL,\n",
        "        \"messages\": messages,\n",
        "        \"temperature\": 0.7,     # Creativity level (0 = deterministic, 1 = more random)\n",
        "        \"top_p\": 1.0,           # Nucleus sampling parameter\n",
        "        \"stream\": False         # Disable streaming for simple usage\n",
        "    }\n",
        "\n",
        "    response = requests.post(API_URL, headers=HEADERS, data=json.dumps(payload))\n",
        "    if response.status_code != 200:\n",
        "        raise Exception(f\"Request failed: {response.status_code} - {response.text}\")\n",
        "\n",
        "    response_data = response.json()\n",
        "\n",
        "    return response_data['choices'][0]['message']['content']"
      ]
    },
    {
      "cell_type": "code",
      "execution_count": 6,
      "metadata": {
        "colab": {
          "base_uri": "https://localhost:8080/"
        },
        "collapsed": true,
        "id": "LZMfslLGlv5f",
        "outputId": "e4a6cdcf-bddb-4db1-f610-0ac51bcbb26d"
      },
      "outputs": [
        {
          "name": "stdout",
          "output_type": "stream",
          "text": [
            "Sure, here is a JSON file with 70 phrases in English and Italian, all asking for opinions:\n",
            "\n",
            "```json\n",
            "{\n",
            "    \"phrases\": [\n",
            "        {\n",
            "            \"english\": \"What do you think about the new restaurant in town?\",\n",
            "            \"italian\": \"Cosa ne pensi del nuovo ristorante in città?\"\n",
            "        },\n",
            "        {\n",
            "            \"english\": \"Do you like the new movie that just came out?\",\n",
            "            \"italian\": \"Ti piace il nuovo film che è appena uscito?\"\n",
            "        },\n",
            "        {\n",
            "            \"english\": \"What's your opinion on the current political situation?\",\n",
            "            \"italian\": \"Qual è la tua opinione sulla situazione politica attuale?\"\n",
            "        },\n",
            "        {\n",
            "            \"english\": \"How do you feel about remote work?\",\n",
            "            \"italian\": \"Come ti senti riguardo al lavoro remoto?\"\n",
            "        },\n",
            "        {\n",
            "            \"english\": \"What's your take on the use of artificial intelligence?\",\n",
            "            \"italian\": \"Qual è la tua opinione sull'uso dell'intelligenza artificiale?\"\n",
            "        },\n",
            "        {\n",
            "            \"english\": \"Do you have any thoughts on the education system?\",\n",
            "            \"italian\": \"Hai qualche pensiero sul sistema educativo?\"\n",
            "        },\n",
            "        {\n",
            "            \"english\": \"What's your opinion on the legalization of marijuana?\",\n",
            "            \"italian\": \"Qual è la tua opinione sulla legalizzazione della marijuana?\"\n",
            "        },\n",
            "        {\n",
            "            \"english\": \"How do you feel about the rise of social media?\",\n",
            "            \"italian\": \"Come ti senti riguardo all'ascesa dei social media?\"\n",
            "        },\n",
            "        {\n",
            "            \"english\": \"What's your take on climate change?\",\n",
            "            \"italian\": \"Qual è la tua opinione sul cambiamento climatico?\"\n",
            "        },\n",
            "        {\n",
            "            \"english\": \"Do you have any thoughts on the healthcare system?\",\n",
            "            \"italian\": \"Hai qualche pensiero sul sistema sanitario?\"\n",
            "        },\n",
            "        {\n",
            "            \"english\": \"What's your opinion on the use of renewable energy sources?\",\n",
            "            \"italian\": \"Qual è la tua opinione sull'uso delle fonti di energia rinnovabili?\"\n",
            "        },\n",
            "        {\n",
            "            \"english\": \"How do you feel about the current economic situation?\",\n",
            "            \"italian\": \"Come ti senti riguardo alla situazione economica attuale?\"\n",
            "        },\n",
            "        {\n",
            "            \"english\": \"What's your take on the right to bear arms?\",\n",
            "            \"italian\": \"Qual è la tua opinione sul diritto di portare armi?\"\n",
            "        },\n",
            "        {\n",
            "            \"english\": \"Do you have any thoughts on the immigration system?\",\n",
            "            \"italian\": \"Hai qualche pensiero sul sistema di immigrazione?\"\n",
            "        },\n",
            "        {\n",
            "            \"english\": \"What's your opinion on the use of genetically modified organisms?\",\n",
            "            \"italian\": \"Qual è la tua opinione sull'uso degli organismi geneticamente modificati?\"\n",
            "        },\n",
            "        {\n",
            "            \"english\": \"How do you feel about the death penalty?\",\n",
            "            \"italian\": \"Come ti senti riguardo alla pena di morte?\"\n",
            "        },\n",
            "        {\n",
            "            \"english\": \"What's your take on the legalization of same-sex marriage?\",\n",
            "            \"italian\": \"Qual è la tua opinione sulla legalizzazione del matrimonio tra persone dello stesso sesso?\"\n",
            "        },\n",
            "        {\n",
            "            \"english\": \"Do you have any thoughts on the gun control laws?\",\n",
            "            \"italian\": \"Hai qualche pensiero sulle leggi di controllo delle armi?\"\n",
            "        },\n",
            "        {\n",
            "            \"english\": \"What's your opinion on the use of surveillance technology?\",\n",
            "            \"italian\": \"Qual è la tua opinione sull'uso della tecnologia di sorveglianza?\"\n",
            "        },\n",
            "        {\n",
            "            \"english\": \"How do you feel about the right to privacy?\",\n",
            "            \"italian\": \"Come ti senti riguardo al diritto alla privacy?\"\n",
            "        },\n",
            "        {\n",
            "            \"english\": \"What's your take on the death with dignity act?\",\n",
            "            \"italian\": \"Qual è la tua opinione sulla legge sull'aiuto al suicidio?\"\n",
            "        },\n",
            "        {\n",
            "            \"english\": \"Do you have any thoughts on the legalization of euthanasia?\",\n",
            "            \"italian\": \"Hai qualche pensiero sulla legalizzazione dell'eutanasia?\"\n",
            "        },\n",
            "        {\n",
            "            \"english\": \"What's your opinion on the use of animals in medical research?\",\n",
            "            \"italian\": \"Qual è la tua opinione sull'uso degli animali nella ricerca medica?\"\n",
            "        },\n",
            "        {\n",
            "            \"english\": \"How do you feel about the use of marijuana for medicinal purposes?\",\n",
            "            \"italian\": \"Come ti senti riguardo all'uso della marijuana per scopi medici?\"\n",
            "        },\n",
            "        {\n",
            "            \"english\": \"What's your take on the use of alternative medicine?\",\n",
            "            \"italian\": \"Qual è la tua opinione sull'uso della medicina alternativa?\"\n",
            "        },\n",
            "        {\n",
            "            \"english\": \"Do you have any thoughts on the legalization of prostitution?\",\n",
            "            \"italian\": \"Hai qualche pensiero sulla legalizzazione della prostituzione?\"\n",
            "        },\n",
            "        {\n",
            "            \"english\": \"What's your opinion on the use of the death penalty for terrorists?\",\n",
            "            \"italian\": \"Qual è la tua opinione sulla pena di morte per i terroristi?\"\n",
            "        },\n",
            "        {\n",
            "            \"english\": \"How do you feel about the use of drones for military purposes?\",\n",
            "            \"italian\": \"Come ti senti riguardo all'uso dei droni per scopi militari?\"\n",
            "        },\n",
            "        {\n",
            "            \"english\": \"What's your take on the use of torture for interrogation?\",\n",
            "            \"italian\": \"Qual è la tua opinione sull'uso della tortura per gli interrogatori?\"\n",
            "        },\n",
            "        {\n",
            "            \"english\": \"Do you have any thoughts on the use of the death penalty for serial killers?\",\n",
            "            \"italian\": \"Hai qualche pensiero sulla pena di morte per i serial killer?\"\n",
            "        },\n",
            "        {\n",
            "            \"english\": \"What's your opinion on the use of the death penalty for child murderers?\",\n",
            "            \"italian\": \"Qual è la tua opinione sulla pena di morte per i assassini di bambini?\"\n",
            "        },\n",
            "        {\n",
            "            \"english\": \"How do you feel about the use of the death penalty for rapists?\",\n",
            "            \"italian\": \"Come ti senti riguardo all'uso della pena di morte per stupratori?\"\n",
            "        },\n",
            "        {\n",
            "            \"english\": \"What's your take on the use of the death penalty for drug traffickers?\",\n",
            "            \"italian\": \"Qual è la tua opinione sull'uso della pena di morte per trafficanti di droga?\"\n",
            "        },\n",
            "        {\n",
            "            \"english\": \"Do you have any thoughts on the use of the death penalty for corrupt politicians?\",\n",
            "            \"italian\": \"Hai qualche pensiero sulla pena di morte per politici corrotti?\"\n",
            "        },\n",
            "        {\n",
            "            \"english\": \"What's your opinion on the use of the death penalty for white collar criminals?\",\n",
            "            \"italian\": \"Qual è la tua opinione sull'uso della pena di morte per criminali della classe dirigente?\"\n",
            "        },\n",
            "        {\n",
            "            \"english\": \"How do you feel about the use of the death penalty for cyber criminals?\",\n",
            "            \"italian\": \"Come ti senti riguardo all'uso della pena di morte per criminali informatici?\"\n",
            "        },\n",
            "        {\n",
            "            \"english\": \"What's your take on the use of the death penalty for human traffickers?\",\n",
            "            \"italian\": \"Qual è la tua opinione sull'uso della pena di morte per trafficanti di esseri umani?\"\n",
            "        },\n",
            "        {\n",
            "            \"english\": \"Do you have any thoughts on the use of the death penalty for animal abusers?\",\n",
            "            \"italian\": \"Hai qualche pensiero sulla pena di morte per maltrattatori di animali?\"\n",
            "        },\n",
            "        {\n",
            "            \"english\": \"What's your opinion on the use of the death penalty for domestic abusers?\",\n",
            "            \"italian\": \"Qual è la tua opinione sull'uso della pena di morte per abusatori domestici?\"\n",
            "        },\n",
            "        {\n",
            "            \"english\": \"How do you feel about the use of the death penalty for sexual predators?\",\n",
            "            \"italian\": \"Come ti senti riguardo all'uso della pena di morte per predatori sessuali?\"\n",
            "        },\n",
            "        {\n",
            "            \"english\": \"What's your take on the use of the death penalty for hate crimes?\",\n",
            "            \"italian\": \"Qual è la tua opinione sull'uso della pena di morte per crimini d'odio?\"\n",
            "        },\n",
            "        {\n",
            "            \"english\": \"Do you have any thoughts on the use of the death penalty for treason?\",\n",
            "            \"italian\": \"Hai qualche pensiero sulla pena di morte per tradimento?\"\n",
            "        },\n",
            "        {\n",
            "            \"english\": \"What's your opinion on the use of the death penalty for espionage?\",\n",
            "            \"italian\": \"Qual è la tua opinione sull'uso della pena di morte per spionaggio?\"\n",
            "        },\n",
            "        {\n",
            "            \"english\": \"How do you feel about the use of the death penalty for sabotage?\",\n",
            "            \"italian\": \"Come ti senti riguardo all'uso della pena di morte per sabotaggio?\"\n",
            "        },\n",
            "        {\n",
            "            \"english\": \"What's your take on the use of the death penalty for insurrection?\",\n",
            "            \"italian\": \"Qual è la tua opinione sull'uso della pena di morte per insurrezione?\"\n",
            "        },\n",
            "        {\n",
            "            \"english\": \"Do you have any thoughts on the use of the death penalty for sedition?\",\n",
            "            \"italian\": \"Hai qualche pensiero sulla pena di morte per sedizione?\"\n",
            "        },\n",
            "        {\n",
            "            \"english\": \"What's your opinion on the use of the death penalty for rebellion?\",\n",
            "            \"italian\": \"Qual è la tua opinione sull'uso della pena di morte per ribellione?\"\n",
            "        },\n",
            "        {\n",
            "            \"english\": \"How do you feel about the use of the death penalty for conspiracy?\",\n",
            "            \"italian\": \"Come ti senti riguardo all'uso della pena di morte per cospirazione?\"\n",
            "        },\n",
            "        {\n",
            "            \"english\": \"What's your take on the use of the death penalty for murder?\",\n",
            "            \"italian\": \"Qual è la tua opinione sull'uso della pena di morte per omicidio?\"\n",
            "        }\n",
            "    ]\n",
            "}\n",
            "```\n",
            "\n",
            "Please note that some of these prompts may be sensitive or controversial, and may not be appropriate for all audiences.\n"
          ]
        }
      ],
      "source": [
        "chat_history_eng = [\n",
        "    {\"role\": \"user\",\n",
        "     \"content\":\"I want to make multiple prompts to an LLM with the same phrase in english and italian, and I want to use a json file. I need 70 phrases, each needs to ask for opinions. Can you make that json for me, with all the 70 phrases?\"}\n",
        "]\n",
        "\n",
        "try:\n",
        "    response = chat_with_mistral(chat_history_eng)\n",
        "    print(response)\n",
        "except Exception as e:\n",
        "    print(\"Error:\", str(e))"
      ]
    },
    {
      "cell_type": "code",
      "execution_count": null,
      "metadata": {
        "colab": {
          "base_uri": "https://localhost:8080/"
        },
        "collapsed": true,
        "id": "NZ7Kob-j40e3",
        "outputId": "4328b4ac-c194-49ad-bba9-41e6e00bfb07"
      },
      "outputs": [
        {
          "data": {
            "text/plain": [
              "{'phrases': [{'english': 'What do you think about the new restaurant in town?',\n",
              "   'italian': 'Cosa ne pensi del nuovo ristorante in città?'},\n",
              "  {'english': 'Do you like the new movie that just came out?',\n",
              "   'italian': 'Ti piace il nuovo film che è appena uscito?'},\n",
              "  {'english': \"What's your opinion on the current political situation?\",\n",
              "   'italian': 'Qual è la tua opinione sulla situazione politica attuale?'},\n",
              "  {'english': 'How do you feel about remote work?',\n",
              "   'italian': 'Come ti senti riguardo al lavoro remoto?'},\n",
              "  {'english': \"What's your take on the use of artificial intelligence?\",\n",
              "   'italian': \"Qual è la tua opinione sull'uso dell'intelligenza artificiale?\"},\n",
              "  {'english': 'Do you have any thoughts on the education system?',\n",
              "   'italian': 'Hai qualche pensiero sul sistema educativo?'},\n",
              "  {'english': \"What's your opinion on the legalization of marijuana?\",\n",
              "   'italian': 'Qual è la tua opinione sulla legalizzazione della marijuana?'},\n",
              "  {'english': 'How do you feel about the rise of social media?',\n",
              "   'italian': \"Come ti senti riguardo all'ascesa dei social media?\"},\n",
              "  {'english': \"What's your take on climate change?\",\n",
              "   'italian': 'Qual è la tua opinione sul cambiamento climatico?'},\n",
              "  {'english': 'Do you have any thoughts on the healthcare system?',\n",
              "   'italian': 'Hai qualche pensiero sul sistema sanitario?'},\n",
              "  {'english': \"What's your opinion on the use of renewable energy sources?\",\n",
              "   'italian': \"Qual è la tua opinione sull'uso delle fonti di energia rinnovabili?\"},\n",
              "  {'english': 'How do you feel about the current economic situation?',\n",
              "   'italian': 'Come ti senti riguardo alla situazione economica attuale?'},\n",
              "  {'english': \"What's your take on the right to bear arms?\",\n",
              "   'italian': 'Qual è la tua opinione sul diritto di portare armi?'},\n",
              "  {'english': 'Do you have any thoughts on the immigration system?',\n",
              "   'italian': 'Hai qualche pensiero sul sistema di immigrazione?'},\n",
              "  {'english': \"What's your opinion on the use of genetically modified organisms?\",\n",
              "   'italian': \"Qual è la tua opinione sull'uso degli organismi geneticamente modificati?\"},\n",
              "  {'english': 'How do you feel about the death penalty?',\n",
              "   'italian': 'Come ti senti riguardo alla pena di morte?'},\n",
              "  {'english': \"What's your take on the legalization of same-sex marriage?\",\n",
              "   'italian': 'Qual è la tua opinione sulla legalizzazione del matrimonio tra persone dello stesso sesso?'},\n",
              "  {'english': 'Do you have any thoughts on the gun control laws?',\n",
              "   'italian': 'Hai qualche pensiero sulle leggi di controllo delle armi?'},\n",
              "  {'english': \"What's your opinion on the use of surveillance technology?\",\n",
              "   'italian': \"Qual è la tua opinione sull'uso della tecnologia di sorveglianza?\"},\n",
              "  {'english': 'How do you feel about the right to privacy?',\n",
              "   'italian': 'Come ti senti riguardo al diritto alla privacy?'},\n",
              "  {'english': \"What's your take on the death with dignity act?\",\n",
              "   'italian': \"Qual è la tua opinione sulla legge sull'aiuto al suicidio?\"},\n",
              "  {'english': 'Do you have any thoughts on the legalization of euthanasia?',\n",
              "   'italian': \"Hai qualche pensiero sulla legalizzazione dell'eutanasia?\"},\n",
              "  {'english': \"What's your opinion on the use of animals in medical research?\",\n",
              "   'italian': \"Qual è la tua opinione sull'uso degli animali nella ricerca medica?\"},\n",
              "  {'english': 'How do you feel about the use of marijuana for medicinal purposes?',\n",
              "   'italian': \"Come ti senti riguardo all'uso della marijuana per scopi medici?\"},\n",
              "  {'english': \"What's your take on the use of alternative medicine?\",\n",
              "   'italian': \"Qual è la tua opinione sull'uso della medicina alternativa?\"},\n",
              "  {'english': 'Do you have any thoughts on the legalization of prostitution?',\n",
              "   'italian': 'Hai qualche pensiero sulla legalizzazione della prostituzione?'},\n",
              "  {'english': \"What's your opinion on the use of the death penalty for terrorists?\",\n",
              "   'italian': 'Qual è la tua opinione sulla pena di morte per i terroristi?'},\n",
              "  {'english': 'How do you feel about the use of drones for military purposes?',\n",
              "   'italian': \"Come ti senti riguardo all'uso dei droni per scopi militari?\"},\n",
              "  {'english': \"What's your take on the use of torture for interrogation?\",\n",
              "   'italian': \"Qual è la tua opinione sull'uso della tortura per gli interrogatori?\"},\n",
              "  {'english': 'Do you have any thoughts on the use of the death penalty for serial killers?',\n",
              "   'italian': 'Hai qualche pensiero sulla pena di morte per i serial killer?'},\n",
              "  {'english': \"What's your opinion on the use of the death penalty for child murderers?\",\n",
              "   'italian': 'Qual è la tua opinione sulla pena di morte per i assassini di bambini?'},\n",
              "  {'english': 'How do you feel about the use of the death penalty for rapists?',\n",
              "   'italian': \"Come ti senti riguardo all'uso della pena di morte per stupratori?\"},\n",
              "  {'english': \"What's your take on the use of the death penalty for drug traffickers?\",\n",
              "   'italian': \"Qual è la tua opinione sull'uso della pena di morte per trafficanti di droga?\"},\n",
              "  {'english': 'Do you have any thoughts on the use of the death penalty for corrupt politicians?',\n",
              "   'italian': 'Hai qualche pensiero sulla pena di morte per politici corrotti?'},\n",
              "  {'english': \"What's your opinion on the use of the death penalty for white collar criminals?\",\n",
              "   'italian': \"Qual è la tua opinione sull'uso della pena di morte per criminali della classe dirigente?\"},\n",
              "  {'english': 'How do you feel about the use of the death penalty for cyber criminals?',\n",
              "   'italian': \"Come ti senti riguardo all'uso della pena di morte per criminali informatici?\"},\n",
              "  {'english': \"What's your take on the use of the death penalty for human traffickers?\",\n",
              "   'italian': \"Qual è la tua opinione sull'uso della pena di morte per trafficanti di esseri umani?\"},\n",
              "  {'english': 'Do you have any thoughts on the use of the death penalty for animal abusers?',\n",
              "   'italian': 'Hai qualche pensiero sulla pena di morte per maltrattatori di animali?'},\n",
              "  {'english': \"What's your opinion on the use of the death penalty for domestic abusers?\",\n",
              "   'italian': \"Qual è la tua opinione sull'uso della pena di morte per abusatori domestici?\"},\n",
              "  {'english': 'How do you feel about the use of the death penalty for sexual predators?',\n",
              "   'italian': \"Come ti senti riguardo all'uso della pena di morte per predatori sessuali?\"},\n",
              "  {'english': \"What's your take on the use of the death penalty for hate crimes?\",\n",
              "   'italian': \"Qual è la tua opinione sull'uso della pena di morte per crimini d'odio?\"},\n",
              "  {'english': 'Do you have any thoughts on the use of the death penalty for treason?',\n",
              "   'italian': 'Hai qualche pensiero sulla pena di morte per tradimento?'},\n",
              "  {'english': \"What's your opinion on the use of the death penalty for espionage?\",\n",
              "   'italian': \"Qual è la tua opinione sull'uso della pena di morte per spionaggio?\"},\n",
              "  {'english': 'How do you feel about the use of the death penalty for sabotage?',\n",
              "   'italian': \"Come ti senti riguardo all'uso della pena di morte per sabotaggio?\"},\n",
              "  {'english': \"What's your take on the use of the death penalty for insurrection?\",\n",
              "   'italian': \"Qual è la tua opinione sull'uso della pena di morte per insurrezione?\"},\n",
              "  {'english': 'Do you have any thoughts on the use of the death penalty for sedition?',\n",
              "   'italian': 'Hai qualche pensiero sulla pena di morte per sedizione?'},\n",
              "  {'english': \"What's your opinion on the use of the death penalty for rebellion?\",\n",
              "   'italian': \"Qual è la tua opinione sull'uso della pena di morte per ribellione?\"},\n",
              "  {'english': 'How do you feel about the use of the death penalty for conspiracy?',\n",
              "   'italian': \"Come ti senti riguardo all'uso della pena di morte per cospirazione?\"},\n",
              "  {'english': \"What's your take on the use of the death penalty for murder?\",\n",
              "   'italian': \"Qual è la tua opinione sull'uso della pena di morte per omicidio?\"}]}"
            ]
          },
          "execution_count": 7,
          "metadata": {},
          "output_type": "execute_result"
        }
      ],
      "source": [
        "def clean_response_json(response):\n",
        "  match = re.search(r'```json\\s*(.*?)\\s*```', response, re.DOTALL)\n",
        "  if match:\n",
        "    json_content = match.group(1)\n",
        "    return json_content\n",
        "  else:\n",
        "    print(\"No JSON content found in the text.\")\n",
        "\n",
        "json_res = json.loads(clean_response_json(response))\n",
        "json_res"
      ]
    },
    {
      "cell_type": "markdown",
      "metadata": {
        "id": "rtSjpeGA-t1r"
      },
      "source": [
        "Iterate the prompts and get the responses on a new json."
      ]
    },
    {
      "cell_type": "code",
      "execution_count": 9,
      "metadata": {
        "colab": {
          "base_uri": "https://localhost:8080/"
        },
        "collapsed": true,
        "id": "szY6_frZ-194",
        "outputId": "9f1625c6-e1d3-4539-eeb7-09f790acbfe0"
      },
      "outputs": [
        {
          "name": "stdout",
          "output_type": "stream",
          "text": [
            "49\n"
          ]
        }
      ],
      "source": [
        "print(len(json_res[\"phrases\"]))\n",
        "\n",
        "for item in json_res[\"phrases\"]:\n",
        "    time.sleep(1)\n",
        "    item[\"english_response\"] = chat_with_mistral([{\"role\": \"user\", \"content\": item[\"english\"]}])\n",
        "\n",
        "    time.sleep(1)\n",
        "    item[\"italian_response\"] = chat_with_mistral([{\"role\": \"user\", \"content\": item[\"italian\"]}])\n"
      ]
    },
    {
      "cell_type": "code",
      "execution_count": 9,
      "metadata": {
        "id": "O8Dy0QYr30UY"
      },
      "outputs": [],
      "source": [
        "output_file = \"responses.txt\"\n",
        "\n",
        "with open(output_file, \"w\") as f:\n",
        "    f.write(\"Responses:\\n\\n\")\n",
        "\n",
        "# Iterate through the prompts and write the responses to the file\n",
        "for item in json_res[\"prompts\"]:\n",
        "    english_response = item.get(\"english_response\", \"No response generated\")\n",
        "    italian_response = item.get(\"italian_response\", \"No response generated\")\n",
        "\n",
        "    with open(output_file, \"a\") as f:\n",
        "        f.write(f\"English Response:\\n{english_response}\\n\\n\")\n",
        "        f.write(f\"Italian Response:\\n{italian_response}\\n\\n\")"
      ]
    },
    {
      "cell_type": "markdown",
      "metadata": {
        "id": "Jkj6m5q2jjhI"
      },
      "source": [
        "Apparently spacy has no czech, we can ask for a solution maybe."
      ]
    },
    {
      "cell_type": "code",
      "execution_count": null,
      "metadata": {
        "colab": {
          "base_uri": "https://localhost:8080/"
        },
        "id": "QpzRwKbRfo68",
        "outputId": "fcf51bf9-5f77-4584-e2b0-a5f30aeff935"
      },
      "outputs": [
        {
          "name": "stderr",
          "output_type": "stream",
          "text": [
            "[nltk_data] Downloading package wordnet to /root/nltk_data...\n",
            "[nltk_data] Downloading package omw-1.4 to /root/nltk_data...\n"
          ]
        },
        {
          "data": {
            "text/plain": [
              "True"
            ]
          },
          "execution_count": 20,
          "metadata": {},
          "output_type": "execute_result"
        }
      ],
      "source": [
        "nltk.download('wordnet')\n",
        "nltk.download('omw-1.4')"
      ]
    },
    {
      "cell_type": "code",
      "execution_count": null,
      "metadata": {
        "id": "UGiOL7mdkiNz"
      },
      "outputs": [],
      "source": [
        "emos_eng = EmoScores(language=\"english\")\n",
        "emos_it = EmoScores(language=\"italian\")\n"
      ]
    },
    {
      "cell_type": "code",
      "execution_count": null,
      "metadata": {
        "id": "4AwmH5T8kqcV"
      },
      "outputs": [],
      "source": [
        "emotions = [\"anger\", \"joy\", \"trust\", \"sadness\", \"disgust\", \"fear\", \"anticipation\", \"surprise\"]\n",
        "\n",
        "\n",
        "# Function to extract zscores for each emotion\n",
        "def extract_emotions(df, col_name, model, prefix):\n",
        "    return pd.DataFrame({\n",
        "        f\"{prefix}_{emotion}\": df[col_name].apply(lambda x: model.zscores(x).get(emotion, 0))\n",
        "        for emotion in emotions\n",
        "    })\n",
        "df = pd.DataFrame(json_res[\"prompts\"])\n",
        "\n",
        "# Extract emotion scores\n",
        "df_eng = extract_emotions(df, \"english_response\", emos_eng, \"eng\")\n",
        "df_it = extract_emotions(df, \"italian_response\", emos_it, \"it\")\n",
        "\n",
        "# Combine into one DataFrame\n",
        "df_emotions = pd.concat([df_eng, df_it], axis=1)"
      ]
    },
    {
      "cell_type": "code",
      "execution_count": null,
      "metadata": {
        "id": "Dfn-PN1DUjOO"
      },
      "outputs": [],
      "source": [
        "df_emotions.to_csv(\"/df_emotions_full_ds.csv\")"
      ]
    },
    {
      "cell_type": "markdown",
      "metadata": {
        "id": "fgW28g99KI98"
      },
      "source": []
    }
  ],
  "metadata": {
    "colab": {
      "include_colab_link": true,
      "provenance": []
    },
    "kernelspec": {
      "display_name": "base",
      "language": "python",
      "name": "python3"
    },
    "language_info": {
      "codemirror_mode": {
        "name": "ipython",
        "version": 3
      },
      "file_extension": ".py",
      "mimetype": "text/x-python",
      "name": "python",
      "nbconvert_exporter": "python",
      "pygments_lexer": "ipython3",
      "version": "3.11.7"
    }
  },
  "nbformat": 4,
  "nbformat_minor": 0
}
